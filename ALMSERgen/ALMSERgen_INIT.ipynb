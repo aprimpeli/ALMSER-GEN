{
 "cells": [
  {
   "cell_type": "code",
   "execution_count": null,
   "metadata": {},
   "outputs": [],
   "source": [
    "import pandas as pd\n",
    "import time\n",
    "\n",
    "from multisourcetaskgenerator import *\n",
    "from blocking import *\n",
    "from feature_vector_creation import *\n",
    "from setting_utils import * "
   ]
  },
  {
   "cell_type": "markdown",
   "metadata": {},
   "source": [
    "# Starting point for ALMSERgen. \n",
    "1. Define configuration\n",
    "    - sources: amount of sources to be generated\n",
    "    - id_attr: idnetifying attributes of the domain\n",
    "    - main_path : path to output the generated tasks\n",
    "    - vpo_values : amount of groups of data sources with the same value pattern. Dont't forget to normalize it before analysis!!!\n",
    "    - eo_values : entity overlap levels\n",
    "    - vh_values : value heterogeneity levels\n",
    "    \n",
    "2. ALMSERgen will generate the tasks (sources and feature vectors)\n",
    "3. Along with the tasks the foloowing files are generated.\n",
    "    - train/test split using the cc of the complete graph\n",
    "    - unsupervised results\n",
    "    - passive learning results\n",
    "    - distribution of connected components sizes (bar chart)\n",
    "    - naive transfer learning heatmap as csv\n",
    "    - profiling information on the task\n",
    "    "
   ]
  },
  {
   "cell_type": "code",
   "execution_count": null,
   "metadata": {},
   "outputs": [],
   "source": [
    "sources=6\n",
    "id_attr= ['title','release','artist','country']\n",
    "original_ds = pd.read_csv(\"msd_1K.csv\")\n",
    "main_path=\"continuum_tasks\"\n",
    "\n",
    "#define the values of the dimensions\n",
    "vpo_values = [2] #2 groups\n",
    "eo_values = [1.0]\n",
    "vh_values = [0.2]\n",
    "\n",
    "\n",
    "for s_v in eo_values:\n",
    "    for g_v in vpo_values:\n",
    "        for cc_v in vh_values:\n",
    "            config = dict()\n",
    "            config['structure'] = s_v\n",
    "            config['groups'] = g_v\n",
    "            config['corner_cases'] = cc_v\n",
    "            \n",
    "            setting_path=main_path+\"/EO%.1fVH%.1fVPO%.1f/\" %(config['structure'], config['corner_cases'], config['groups']/sources,)\n",
    "\n",
    "            if not os.path.exists(setting_path):\n",
    "                os.makedirs(setting_path)\n",
    "\n",
    "            start = time.time()\n",
    "\n",
    "            setting = MultiSourceTaskGenerator(original_ds, sources, 'id', id_attr,\n",
    "                                  config)\n",
    "            setting.generate()\n",
    "\n",
    "\n",
    "            setting.write_sources(setting_path)\n",
    "\n",
    "            #blocking : will create the path blocked_pairs\n",
    "            get_pairs_for_fv(setting_path, 'id')\n",
    "\n",
    "            #feature vector : will create the path feature_vector_files\n",
    "            createVectorsFromFiles(setting_path, 'id')\n",
    "\n",
    "            #write train and test data\n",
    "            write_and_profile_setting(setting_path)\n",
    "            end = time.time()\n",
    "            print(\"Creating one multi-source setting in : %f sec.\" %(end - start))\n",
    "\n",
    "                \n"
   ]
  }
 ],
 "metadata": {
  "kernelspec": {
   "display_name": "Python 3",
   "language": "python",
   "name": "python3"
  },
  "language_info": {
   "codemirror_mode": {
    "name": "ipython",
    "version": 3
   },
   "file_extension": ".py",
   "mimetype": "text/x-python",
   "name": "python",
   "nbconvert_exporter": "python",
   "pygments_lexer": "ipython3",
   "version": "3.7.1"
  }
 },
 "nbformat": 4,
 "nbformat_minor": 4
}
